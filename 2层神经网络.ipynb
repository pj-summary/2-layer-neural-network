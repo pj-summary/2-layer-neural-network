{
 "cells": [
  {
   "cell_type": "code",
   "execution_count": 20,
   "metadata": {},
   "outputs": [],
   "source": [
    "import numpy as np\n",
    "import random\n",
    "import matplotlib\n",
    "import matplotlib.pyplot as plt\n",
    "import tqdm"
   ]
  },
  {
   "cell_type": "code",
   "execution_count": 21,
   "metadata": {},
   "outputs": [],
   "source": [
    "def one_hot(labels):\n",
    "    \"\"\"\n",
    "    标签one-hot处理\n",
    "    \"\"\"\n",
    "    num = len(labels)\n",
    "    result = np.zeros((num, 10))\n",
    "    for i in range(num):\n",
    "        result[i][labels[i]] = 1\n",
    "    return result\n",
    "\n",
    "'''\n",
    "激活函数\n",
    "'''\n",
    "def sigmoid(z):\n",
    "    return 1.0/(1.0+np.exp(-z))\n",
    "def sigmoid_grad(z):\n",
    "    return sigmoid(z)*(1-sigmoid(z))\n",
    "\n",
    "def relu(z):\n",
    "    return np.maximum(0, z)\n",
    "def relu_grad(z):\n",
    "    return np.where(z>=0,1,0)\n",
    "\n",
    "def tanh(z):\n",
    "    return (np.exp(z) - np.exp(-z))/(np.exp(-z) + np.exp(z))\n",
    "def tanh_grad(z):\n",
    "    return 1.0 - tanh(z) * tanh(z)\n",
    "\n",
    "def softmax(x):\n",
    "    if x.ndim == 2:\n",
    "        x = x.T\n",
    "        x = x - np.max(x, axis=0)\n",
    "        y = np.exp(x) / np.sum(np.exp(x), axis=0)\n",
    "        return y.T\n",
    "    x = x - np.max(x)  # 溢出对策\n",
    "    return np.exp(x) / np.sum(np.exp(x))\n",
    "\n",
    "\"\"\"\n",
    "损失函数\n",
    "\"\"\"\n",
    "def mean_squared_error(y_pre, y):\n",
    "    \"\"\"\n",
    "    均方误差\n",
    "    \"\"\"\n",
    "    return 0.5 * np.sum((y_pre-y)**2)\n",
    "\n",
    "def cross_entropy_error(y_pre, y):\n",
    "    \"\"\"\n",
    "    与softmax分类器对应的交叉熵作为损失函数\n",
    "    \"\"\"\n",
    "    y = np.array(y)\n",
    "    y_pre = np.array(y_pre)\n",
    "    if y_pre.ndim == 1:\n",
    "        y = y.reshape(1, y.size)\n",
    "        y_pre = y_pre.reshape(1, y_pre.size)\n",
    "\n",
    "    # 监督数据是one-hot时，转为标签的索引值\n",
    "    if y.size == y_pre.size:\n",
    "        y = y.argmax(axis=1)\n",
    "\n",
    "    batch_size = y_pre.shape[0]\n",
    "    return -np.sum(np.log(y_pre[np.arange(batch_size), y] + 1e-7)) / batch_size"
   ]
  },
  {
   "cell_type": "code",
   "execution_count": 22,
   "metadata": {},
   "outputs": [],
   "source": [
    "class Net(object):\n",
    "    '''\n",
    "    神经网络，含输入、隐藏、输出3层\n",
    "    参数：\n",
    "        l0, l1, l2：各层节点个数\n",
    "        self.lr：SGD中的learning rate，学习率\n",
    "        self.lamda：L2正则化项\n",
    "    '''\n",
    "    def __init__(self, l0, l1, l2, lr=0.25, lamda=0.025):\n",
    "        self.lr = lr\n",
    "        self.lamda = lamda\n",
    "        # self.w1 = np.random.randn(l0, l1) * 0.01        # l0 x l1\n",
    "        # self.w2 = np.random.randn(l1, l2) * 0.01        # l1 x l2\n",
    "        # self.w3 = np.random.randn(l2, l3) * 0.01\n",
    "        # self.b3 = np.random.randn(l3) * 0.01\n",
    "        self.w1 = np.random.normal(loc=0, scale=1, size=(l0, l1)) * 0.01\n",
    "        self.b1 = np.zeros(l1)\n",
    "        self.w2 = np.random.normal(loc=0, scale=1, size=(l1, l2)) * 0.01\n",
    "        self.b2 = np.zeros(l2)\n",
    "\n",
    "    \n",
    "    def forward_prop(self, X, Y, m):\n",
    "        \"\"\"\n",
    "        前向传播\n",
    "        参数：\n",
    "            X,Y：\n",
    "            m：batch size\n",
    "        \"\"\"\n",
    "        self.X = np.array(X)                                    # m x l0(=784)\n",
    "        self.z1 = np.dot(X, self.w1) + self.b1                  # m x l1\n",
    "        self.a1 = tanh(self.z1)                              # m x l1\n",
    "        self.z2 = np.dot(self.a1, self.w2) + self.b2            # m x 12(=10)\n",
    "        self.a2 = softmax(self.z2)                              # 网络预测结果\n",
    "        cost = cross_entropy_error(self.a2, Y)                # 均方差\n",
    "        \n",
    "        return cost, self.a2\n",
    "\n",
    "    def backward_prop(self,y,m):\n",
    "        \"\"\"\n",
    "        反向传播，用于求C对w,b的偏导\n",
    "        注意损失函数含L2正则化项\n",
    "        \"\"\"\n",
    "        d2 = (self.a2-y)\n",
    "        #d2 = (self.a2-y) * tanh_grad(self.z2)                    # 损失函数对应\n",
    "        dw2 = np.dot(self.a1.T, d2)/m + self.lamda*self.w2/m\n",
    "        db2 = np.sum(d2, axis=0)/m\n",
    "        d1 = np.dot(d2, self.w2.T) * tanh_grad(self.z1)\n",
    "        dw1 = np.dot(self.X.T, d1)/m + self.lamda*self.w1/m       # l784 x l1\n",
    "        db1 = np.sum(d1, axis=0)/m                                # l1\n",
    "        \n",
    "        # 根据偏导，更新参数值\n",
    "        self.w2 -= self.lr*dw2\n",
    "        self.b2 -= self.lr*db2\n",
    "        self.w1 -= self.lr*dw1\n",
    "        self.b1 -= self.lr*db1\n",
    "    \n",
    "    def SGD(self,data,batch_size=10,epochs=5):\n",
    "        \"\"\"\n",
    "        随机梯度下降法：每次把全部样本点抽中算一次epoch\n",
    "        data：一个元素为(x, y)元祖形式的列表\n",
    "        :param epochs: 训练轮次\n",
    "        :param mini_batch_size: 小批量训练样本数据集大小\n",
    "        :param eta: 学习率\n",
    "        \"\"\"\n",
    "        n = len(data)                    # data中总样本数量\n",
    "        acc_list,loss_list = [],[]\n",
    "        tmp = 0\n",
    "        for j in range(epochs):\n",
    "            random.shuffle(data)         # 打乱顺序\n",
    "            img,label = zip(*data)\n",
    "            if j%3==0:\n",
    "                nn.lr_descent(j)\n",
    "            for i in tqdm.tqdm(range(0,n,batch_size), position=0, desc=f'Epoch {j+1}/{epochs}', ncols=30):\n",
    "                X = img[i: i+batch_size]\n",
    "                Y = label[i: i+batch_size]\n",
    "                loss, result = nn.forward_prop(X, Y, batch_size)\n",
    "                if ((i+1)//batch_size)%50==0:\n",
    "                    result = np.argmax(result, axis=1)\n",
    "                    acc = np.sum(result==np.argmax(Y,axis=1))\n",
    "                    acc_list.append(acc/float(batch_size))\n",
    "                    loss_list.append(loss+self.lamda*np.linalg.norm(self.w2,ord=2)+self.lamda*np.linalg.norm(self.w1,ord=2))#\n",
    "                nn.backward_prop(Y,batch_size)\n",
    "        # 绘制精确率、损失曲线\n",
    "        self.acc_loss_plot(acc_list, loss_list, batch_size, epochs)\n",
    "        # 储存参数\n",
    "        np.savez(\"data.npz\", w1=nn.w1, b1=nn.b1, w2=nn.w2, b2=nn.b2, lr=nn.lr, lamda=nn.lamda, l1=len(nn.b1))\n",
    "    \n",
    "\n",
    "    def lr_descent(self,epoch,rate=0.75):\n",
    "        \"\"\"\n",
    "        学习率下降策略\n",
    "        \"\"\"\n",
    "        self.lr = self.lr*rate\n",
    "    \n",
    "    def acc_loss_plot(self, acc_list, loss_list, batch_size, epochs):\n",
    "        itr_per_epochs = 60000//batch_size//50\n",
    "        x1 = np.arange(len(acc_list))\n",
    "        x2 = range(0,len(acc_list),itr_per_epochs)\n",
    "        \n",
    "        plt.subplots(1,2)\n",
    "        # 精确度曲线绘制\n",
    "        #fig = plt.figure()\n",
    "        plt.subplot(1,2,1)\n",
    "        plt.plot(x1, acc_list)\n",
    "        plt.xticks(x2,range(epochs))\n",
    "        plt.ylim(0.0,1.0)\n",
    "        plt.title('Training Accuracy')\n",
    "        plt.xlabel('epochs')\n",
    "        plt.ylabel('accuracy')\n",
    "        #plt.figure(figsize=(2, 2))\n",
    "        \n",
    "        # 损失曲线绘制\n",
    "        plt.subplot(1,2,2)\n",
    "        plt.plot(x1, loss_list)\n",
    "        plt.xticks(x2,range(epochs))\n",
    "        plt.title('Training Loss')\n",
    "        plt.xlabel('epochs')\n",
    "        plt.ylabel('loss')\n",
    "        #plt.figure(figsize=(2, 2))\n",
    "        \n",
    "        plt.tight_layout()\n",
    "        plt.savefig('savefig_example.png', bbox_inches='tight')\n",
    "        plt.show()"
   ]
  },
  {
   "cell_type": "code",
   "execution_count": 23,
   "metadata": {},
   "outputs": [],
   "source": [
    "#读取MNIST数据\n",
    "\n",
    "label_t10k_path = './MNIST/t10k-labels.idx1-ubyte'\n",
    "label_train_path = './MNIST/train-labels.idx1-ubyte'\n",
    "img_t10k_path = './MNIST/t10k-images.idx3-ubyte'\n",
    "img_train_path = './MNIST/train-images.idx3-ubyte'\n",
    "\n",
    "#'rb'以二进制格式打开一个文件用于只读\n",
    "with open(label_t10k_path, 'rb') as label_obj:\n",
    "    label_t10k = np.frombuffer(label_obj.read(), dtype=np.uint8, offset=8)\n",
    "    m_t10k = len(label_t10k)\n",
    "    label_t10k = np.asarray(label_t10k).reshape(m_t10k, 1) # 10000 x 1\n",
    "    label_t10k = one_hot(label_t10k) # one-hot 10000 x 10\n",
    "with open(img_t10k_path, 'rb') as img_obj:\n",
    "    img_t10k = np.frombuffer(img_obj.read(), dtype=np.uint8, offset=16)\n",
    "    img_t10k = np.asarray(img_t10k).reshape(m_t10k, 784) / 255 # 10000 x 784\n",
    "\n",
    "with open(label_train_path, 'rb') as label_obj:\n",
    "    label_train = np.frombuffer(label_obj.read(), dtype=np.uint8, offset=8)\n",
    "    m_train = len(label_train)\n",
    "    label_train = np.asarray(label_train).reshape(m_train, 1) # 60000 x 1\n",
    "    label_train = one_hot(label_train) # one-hot 60000 x 10\n",
    "with open(img_train_path, 'rb') as img_obj:\n",
    "    img_train = np.frombuffer(img_obj.read(), dtype=np.uint8, offset=16)\n",
    "    img_train = np.asarray(img_train).reshape(m_train, 784) / 255 # 60000 x 784\n",
    "\n",
    "training_data = list(zip(img_train, label_train))\n",
    "validation_data = list(zip(img_t10k, label_t10k))\n",
    "# 可用X,Y = zip(*training_data)解压"
   ]
  },
  {
   "cell_type": "code",
   "execution_count": 24,
   "metadata": {},
   "outputs": [
    {
     "name": "stdout",
     "output_type": "stream",
     "text": [
      "[1. 0. 0. 0. 0. 0. 0. 0. 0. 0.]\n"
     ]
    },
    {
     "data": {
      "image/png": "[encoded data removed]",
      "text/plain": [
       "<Figure size 432x288 with 1 Axes>"
      ]
     },
     "metadata": {
      "needs_background": "light"
     },
     "output_type": "display_data"
    }
   ],
   "source": [
    "# 绘制手写图像\n",
    "random.shuffle(training_data)\n",
    "x,y=zip(*training_data)\n",
    "print(y[200])\n",
    "some_digit = x[200]\n",
    "some_digit_image = some_digit.reshape(28,28)\n",
    " \n",
    "plt.imshow(some_digit_image, cmap=matplotlib.cm.binary, interpolation=\"nearest\")\n",
    "plt.axis('off')\n",
    "plt.show()"
   ]
  },
  {
   "cell_type": "code",
   "execution_count": 25,
   "metadata": {
    "scrolled": true
   },
   "outputs": [
    {
     "name": "stderr",
     "output_type": "stream",
     "text": [
      "Epoch 1/11: 100%|█| 600/600 [00:03<00:00, 163.87it/s]\n",
      "Epoch 2/11: 100%|█| 600/600 [00:03<00:00, 151.18it/s]\n",
      "Epoch 3/11: 100%|█| 600/600 [00:04<00:00, 142.48it/s]\n",
      "Epoch 4/11: 100%|█| 600/600 [00:04<00:00, 132.74it/s]\n",
      "Epoch 5/11: 100%|█| 600/600 [00:02<00:00, 255.25it/s]\n",
      "Epoch 6/11: 100%|█| 600/600 [00:02<00:00, 263.67it/s]\n",
      "Epoch 7/11: 100%|█| 600/600 [00:03<00:00, 199.84it/s]\n",
      "Epoch 8/11: 100%|█| 600/600 [00:03<00:00, 196.54it/s]\n",
      "Epoch 9/11: 100%|█| 600/600 [00:02<00:00, 218.14it/s]\n",
      "Epoch 10/11: 100%|█| 600/600 [00:03<00:00, 152.09it/s]\n",
      "Epoch 11/11: 100%|█| 600/600 [00:03<00:00, 166.83it/s]\n"
     ]
    },
    {
     "data": {
      "image/png": "[encoded data removed]",
      "text/plain": [
       "<Figure size 432x288 with 2 Axes>"
      ]
     },
     "metadata": {
      "needs_background": "light"
     },
     "output_type": "display_data"
    }
   ],
   "source": [
    "input_nodes = 784\n",
    "hidden_nodes = 64\n",
    "output_nodes = 10\n",
    "lr = 1.0\n",
    "\n",
    "# 训练模型\n",
    "# nn = Net(input_nodes, hidden_nodes, output_nodes, lr)\n",
    "# nn.SGD(training_data, batch_size=100, epochs=11)"
   ]
  },
  {
   "cell_type": "code",
   "execution_count": 27,
   "metadata": {},
   "outputs": [
    {
     "name": "stdout",
     "output_type": "stream",
     "text": [
      "Precison: 0.9765\n"
     ]
    }
   ],
   "source": [
    "# 测试模型\n",
    "r = np.load(\"data.npz\")\n",
    "r = np.load(\"best_data.npz\")   # 最佳模型参数\n",
    "hidden_nodes = r[\"l1\"]\n",
    "nn = Net(input_nodes, hidden_nodes, output_nodes, lr)\n",
    "nn.w1 = r[\"w1\"]\n",
    "nn.b1 = r[\"b1\"]\n",
    "nn.w2 = r[\"w2\"]\n",
    "nn.b2 = r[\"b2\"]\n",
    "nn.lr = r[\"lr\"]\n",
    "nn.lamda = r[\"lamda\"]\n",
    "\n",
    "_, result = nn.forward_prop(img_t10k, label_t10k, m=10000)\n",
    "result = np.argmax(result, axis=1)\n",
    "true = np.argmax(label_t10k, axis=1)\n",
    "precison = np.sum(result==true) / 10000\n",
    "print(\"Precison:\", precison)"
   ]
  },
  {
   "cell_type": "code",
   "execution_count": 29,
   "metadata": {},
   "outputs": [
    {
     "data": {
      "image/png": "[encoded data removed]",
      "text/plain": [
       "<Figure size 432x288 with 4 Axes>"
      ]
     },
     "metadata": {
      "needs_background": "light"
     },
     "output_type": "display_data"
    }
   ],
   "source": [
    "plt.subplot(2,2,1)\n",
    "plt.hist([b for a in r[\"w1\"] for b in a],bins=100)  #频率直方图\n",
    "plt.grid(alpha=0.5,linestyle='-.') #网格线\n",
    "plt.xlabel('w1')  \n",
    "plt.title(r'parameters in w1') \n",
    "\n",
    "plt.subplot(2,2,2)\n",
    "plt.hist(r[\"b1\"],bins=10)  #频率直方图\n",
    "plt.grid(alpha=0.5,linestyle='-.') #网格线\n",
    "plt.xlabel('b1')  \n",
    "plt.title(r'parameters in b1') \n",
    "\n",
    "plt.subplot(2,2,3)\n",
    "plt.hist([b for a in r[\"w2\"] for b in a],bins=50)  #频率直方图\n",
    "plt.grid(alpha=0.5,linestyle='-.') #网格线\n",
    "plt.xlabel('w2')  \n",
    "plt.title(r'parameters in w2') \n",
    "\n",
    "plt.subplot(2,2,4)\n",
    "plt.hist(r[\"b2\"],bins=20)  #频率直方图\n",
    "plt.grid(alpha=0.5,linestyle='-.') #网格线\n",
    "plt.xlabel('b2')  \n",
    "plt.title(r'parameters in b2') \n",
    "\n",
    "plt.tight_layout()\n",
    "plt.show()"
   ]
  },
  {
   "cell_type": "code",
   "execution_count": null,
   "metadata": {},
   "outputs": [],
   "source": []
  },
  {
   "cell_type": "code",
   "execution_count": null,
   "metadata": {},
   "outputs": [],
   "source": []
  },
  {
   "cell_type": "code",
   "execution_count": null,
   "metadata": {},
   "outputs": [],
   "source": []
  }
 ],
 "metadata": {
  "kernelspec": {
   "display_name": "Python 3",
   "language": "python",
   "name": "python3"
  },
  "language_info": {
   "codemirror_mode": {
    "name": "ipython",
    "version": 3
   },
   "file_extension": ".py",
   "mimetype": "text/x-python",
   "name": "python",
   "nbconvert_exporter": "python",
   "pygments_lexer": "ipython3",
   "version": "3.7.0"
  }
 },
 "nbformat": 4,
 "nbformat_minor": 2
}
